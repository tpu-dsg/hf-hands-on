{
 "cells": [
  {
   "cell_type": "markdown",
   "metadata": {},
   "source": [
    "# Model Playground - 入門 Hugging Face🤗\n",
    "\n",
    "[GitHub](https://github.com/tpu-dsg/hf-hands-on)\n",
    "\n",
    "このノートブックでは、[Hugging Face🤗](https://huggingface.co/)のエコシステムを活用して、学習済みモデルを用いた画像分類を行います。"
   ]
  },
  {
   "cell_type": "code",
   "execution_count": null,
   "metadata": {},
   "outputs": [],
   "source": [
    "import requests\n",
    "from urllib.parse import urlparse\n",
    "import os\n",
    "import sys\n",
    "\n",
    "from transformers import AutoImageProcessor, AutoModelForImageClassification\n",
    "from PIL import Image\n",
    "import torch"
   ]
  },
  {
   "cell_type": "markdown",
   "metadata": {},
   "source": [
    "以下で推論に使用する画像分類モデルと、推論に使用する画像を指定しましょう。\n",
    "\n",
    "- 画像分類モデルはこちらから探してみましょう：https://huggingface.co/models?pipeline_tag=image-classification&sort=trending\n",
    "- `apple/mobilevit-small`のページはこちら：https://huggingface.co/apple/mobilevit-small"
   ]
  },
  {
   "cell_type": "code",
   "execution_count": null,
   "metadata": {},
   "outputs": [],
   "source": [
    "# 推論に使用するモデル\n",
    "MODEL_NAME: str = \"apple/mobilevit-small\"\n",
    "# 推論に使用する画像のURLまたはパス\n",
    "IMAGE: str = \"https://images.unsplash.com/photo-1523974837767-33c0fbdd9f6a?q=80&w=1974&auto=format&fit=crop&ixlib=rb-4.0.3&ixid=M3wxMjA3fDB8MHxwaG90by1wYWdlfHx8fGVufDB8fHx8fA%3D%3D\""
   ]
  },
  {
   "cell_type": "code",
   "execution_count": null,
   "metadata": {},
   "outputs": [],
   "source": [
    "parsed_url = urlparse(IMAGE)\n",
    "if parsed_url.scheme in (\"http\", \"https\"):\n",
    "    # URLが指定された場合\n",
    "    img = Image.open(requests.get(IMAGE, stream=True).raw)\n",
    "elif os.path.exists(IMAGE):\n",
    "    # ファイルパスが指定された場合\n",
    "    img = Image.open(IMAGE)\n",
    "else:\n",
    "    sys.exit(\"有効な画像のURLまたはパスを指定してください\")\n",
    "\n",
    "img.show()"
   ]
  },
  {
   "cell_type": "markdown",
   "metadata": {},
   "source": [
    "## プロセッサーとモデルの読み込み\n",
    "\n",
    "モデルと[Image Processor](https://huggingface.co/docs/transformers/main_classes/image_processor)を読み込みます。Image Processorはモデルが期待する形式に画像を変換する役割を担います。"
   ]
  },
  {
   "cell_type": "code",
   "execution_count": null,
   "metadata": {},
   "outputs": [],
   "source": [
    "# 画像の前処理用のプロセッサ\n",
    "processor = AutoImageProcessor.from_pretrained(MODEL_NAME)\n",
    "# モデルの読み込み\n",
    "model = AutoModelForImageClassification.from_pretrained(MODEL_NAME)"
   ]
  },
  {
   "cell_type": "markdown",
   "metadata": {},
   "source": [
    "## 推論"
   ]
  },
  {
   "cell_type": "code",
   "execution_count": null,
   "metadata": {},
   "outputs": [],
   "source": [
    "# 画像を変換\n",
    "input = processor(images=img, return_tensors=\"pt\")\n",
    "\n",
    "# モデルの推論\n",
    "with torch.no_grad():\n",
    "    output = model(**input)\n",
    "    logits = output.logits\n",
    "\n",
    "# 推論結果の表示\n",
    "predicted_class_idx = logits.argmax(-1).item()\n",
    "print(f\"Predicted class: {model.config.id2label[predicted_class_idx]}\")"
   ]
  },
  {
   "cell_type": "markdown",
   "metadata": {},
   "source": [
    "コードを書き換えて、他にも色々と試してみましょう！\n",
    "\n",
    "- 他の画像分類モデルを使用してみる\n",
    "- **分類タスク以外**のモデルを使用してみる\n"
   ]
  },
  {
   "cell_type": "code",
   "execution_count": null,
   "metadata": {},
   "outputs": [],
   "source": []
  }
 ],
 "metadata": {
  "kernelspec": {
   "display_name": ".venv",
   "language": "python",
   "name": "python3"
  },
  "language_info": {
   "codemirror_mode": {
    "name": "ipython",
    "version": 3
   },
   "file_extension": ".py",
   "mimetype": "text/x-python",
   "name": "python",
   "nbconvert_exporter": "python",
   "pygments_lexer": "ipython3",
   "version": "3.10.12"
  }
 },
 "nbformat": 4,
 "nbformat_minor": 2
}
